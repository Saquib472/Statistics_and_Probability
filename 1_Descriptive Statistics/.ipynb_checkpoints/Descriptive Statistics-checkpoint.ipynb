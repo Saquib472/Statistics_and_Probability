{
 "cells": [
  {
   "cell_type": "markdown",
   "id": "dd5132de",
   "metadata": {},
   "source": [
    "<h1 style='color:brown; text-decoration:underline;' align='center'>! Descriptive Statistics and Python Implementation !</h1>"
   ]
  },
  {
   "cell_type": "markdown",
   "id": "8e7a2c6d",
   "metadata": {},
   "source": [
    "### \" Descriptive statistics are brief descriptive coefficients that summarize a given data set, which can be either a representation of the entire population or a sample of a population. \" "
   ]
  },
  {
   "cell_type": "markdown",
   "id": "a29155f4",
   "metadata": {},
   "source": [
    "<p style =\"font-size:25px; color:purple\"><b>Topics:</b></p>\n",
    "<p style = 'font-size:18px'>1.Mean<br>\n",
    "2.Median<br>\n",
    "3.Mode<br>\n",
    "4.Variance<br>\n",
    "5.Standard Deviation<br>\n",
    "6.Correlation<br>\n",
    "7.Normal Distribution<br>\n",
    "8.Feature of Normal Distribution<br>\n",
    "9.Positively Skewed & Negatively Skewed Normal Distribution<br>\n",
    "10.Effect on Mean, Median and Mode due to Skewness<br>\n",
    "11.Explain QQ Plot and show the implementation of the same<br>\n",
    "12.Explain Box Cox and show the implementation of the same<br>\n",
    "</p>"
   ]
  },
  {
   "cell_type": "markdown",
   "id": "f08d62b1",
   "metadata": {},
   "source": [
    "<h1 style= \"color:purple; font-size:30px;\">The Mean</h1>"
   ]
  },
  {
   "cell_type": "markdown",
   "id": "e67d7d38",
   "metadata": {},
   "source": [
    "<p style = \"font-size:18px;\">The mean is a fancy statistical way to say \"average.\"\n",
    "    In statistics, it is a measure of <b>central tendency</b> of a probability distribution along with <b>median</b> and <b>mode</b>.</p>"
   ]
  },
  {
   "cell_type": "markdown",
   "id": "77dee1ee",
   "metadata": {},
   "source": [
    "<p style =\"font-size:22px;\"><b>Example:</b></p><img src=\"images/mean.svg\" style=\"width:280px;height:160px\">"
   ]
  },
  {
   "cell_type": "markdown",
   "id": "cbb98aac",
   "metadata": {},
   "source": [
    "\n",
    "<p style =\"font-size:22px;\"><b>Formulas:</b></p>"
   ]
  },
  {
   "cell_type": "markdown",
   "id": "8ea6dc3f",
   "metadata": {},
   "source": [
    "<p style =\"font-size:18px;\">Population Mean :$\\, \\Large\\mu$</p>$$\\Large\\mu=\\sum\\,\\frac{x}{N}$$"
   ]
  },
  {
   "cell_type": "markdown",
   "id": "0e6a56c1",
   "metadata": {},
   "source": [
    "<p style =\"font-size:18px;\">Sample Mean :$\\,\\Large \\bar{x}$</p>$$\\Large\\bar{x}=\\sum\\,\\frac{x}{n}$$"
   ]
  },
  {
   "cell_type": "markdown",
   "id": "99144b7b",
   "metadata": {},
   "source": [
    "<p style =\"font-size:18px;\">Geometric Mean :$$ \\large GM(x) = \\sqrt[n]{x_1 \\times x_2 \\times \\cdots \\times x_n }$$"
   ]
  },
  {
   "cell_type": "markdown",
   "id": "0d512b16",
   "metadata": {},
   "source": [
    "<p style =\"font-size:18px;\">Harmonic Mean :$$ \\Large\\frac{n}{\\frac{1}{x_1}+\\frac{1}{x_2}+\\cdots+\\frac{1}{x_n}} $$"
   ]
  },
  {
   "cell_type": "markdown",
   "id": "a64027b4",
   "metadata": {},
   "source": [
    "<p style =\"font-size:22px;\"><b>Code Examples:</b></p>"
   ]
  },
  {
   "cell_type": "markdown",
   "id": "00bd49b9",
   "metadata": {},
   "source": [
    "<p style =\"font-size:20px; text-decoration: underline;\">With Library function :</p>"
   ]
  },
  {
   "cell_type": "code",
   "execution_count": 21,
   "id": "3c74dbfa",
   "metadata": {},
   "outputs": [],
   "source": [
    "# It Will ignore some unneccessery warnings\n",
    "import warnings\n",
    "warnings.filterwarnings('ignore')"
   ]
  },
  {
   "cell_type": "code",
   "execution_count": 22,
   "id": "a32826be",
   "metadata": {},
   "outputs": [
    {
     "data": {
      "text/html": [
       "<div>\n",
       "<style scoped>\n",
       "    .dataframe tbody tr th:only-of-type {\n",
       "        vertical-align: middle;\n",
       "    }\n",
       "\n",
       "    .dataframe tbody tr th {\n",
       "        vertical-align: top;\n",
       "    }\n",
       "\n",
       "    .dataframe thead th {\n",
       "        text-align: right;\n",
       "    }\n",
       "</style>\n",
       "<table border=\"1\" class=\"dataframe\">\n",
       "  <thead>\n",
       "    <tr style=\"text-align: right;\">\n",
       "      <th></th>\n",
       "      <th>Mthly_HH_Income</th>\n",
       "      <th>Mthly_HH_Expense</th>\n",
       "      <th>No_of_Fly_Members</th>\n",
       "      <th>Emi_or_Rent_Amt</th>\n",
       "      <th>Annual_HH_Income</th>\n",
       "      <th>Highest_Qualified_Member</th>\n",
       "      <th>No_of_Earning_Members</th>\n",
       "    </tr>\n",
       "  </thead>\n",
       "  <tbody>\n",
       "    <tr>\n",
       "      <th>0</th>\n",
       "      <td>5000</td>\n",
       "      <td>8000</td>\n",
       "      <td>3</td>\n",
       "      <td>2000</td>\n",
       "      <td>64200</td>\n",
       "      <td>Under-Graduate</td>\n",
       "      <td>1</td>\n",
       "    </tr>\n",
       "    <tr>\n",
       "      <th>1</th>\n",
       "      <td>6000</td>\n",
       "      <td>7000</td>\n",
       "      <td>2</td>\n",
       "      <td>3000</td>\n",
       "      <td>79920</td>\n",
       "      <td>Illiterate</td>\n",
       "      <td>1</td>\n",
       "    </tr>\n",
       "    <tr>\n",
       "      <th>2</th>\n",
       "      <td>10000</td>\n",
       "      <td>4500</td>\n",
       "      <td>2</td>\n",
       "      <td>0</td>\n",
       "      <td>112800</td>\n",
       "      <td>Under-Graduate</td>\n",
       "      <td>1</td>\n",
       "    </tr>\n",
       "    <tr>\n",
       "      <th>3</th>\n",
       "      <td>10000</td>\n",
       "      <td>2000</td>\n",
       "      <td>1</td>\n",
       "      <td>0</td>\n",
       "      <td>97200</td>\n",
       "      <td>Illiterate</td>\n",
       "      <td>1</td>\n",
       "    </tr>\n",
       "    <tr>\n",
       "      <th>4</th>\n",
       "      <td>12500</td>\n",
       "      <td>12000</td>\n",
       "      <td>2</td>\n",
       "      <td>3000</td>\n",
       "      <td>147000</td>\n",
       "      <td>Graduate</td>\n",
       "      <td>1</td>\n",
       "    </tr>\n",
       "  </tbody>\n",
       "</table>\n",
       "</div>"
      ],
      "text/plain": [
       "   Mthly_HH_Income  Mthly_HH_Expense  No_of_Fly_Members  Emi_or_Rent_Amt  \\\n",
       "0             5000              8000                  3             2000   \n",
       "1             6000              7000                  2             3000   \n",
       "2            10000              4500                  2                0   \n",
       "3            10000              2000                  1                0   \n",
       "4            12500             12000                  2             3000   \n",
       "\n",
       "   Annual_HH_Income Highest_Qualified_Member  No_of_Earning_Members  \n",
       "0             64200           Under-Graduate                      1  \n",
       "1             79920               Illiterate                      1  \n",
       "2            112800           Under-Graduate                      1  \n",
       "3             97200               Illiterate                      1  \n",
       "4            147000                 Graduate                      1  "
      ]
     },
     "execution_count": 22,
     "metadata": {},
     "output_type": "execute_result"
    }
   ],
   "source": [
    "# Importing some neccessary modules\n",
    "import pandas as pd\n",
    "import seaborn as sn\n",
    "df = pd.read_csv(\"data/data.csv\")\n",
    "df.head()"
   ]
  },
  {
   "cell_type": "code",
   "execution_count": 23,
   "id": "8f3d03b3",
   "metadata": {},
   "outputs": [
    {
     "data": {
      "text/html": [
       "<div>\n",
       "<style scoped>\n",
       "    .dataframe tbody tr th:only-of-type {\n",
       "        vertical-align: middle;\n",
       "    }\n",
       "\n",
       "    .dataframe tbody tr th {\n",
       "        vertical-align: top;\n",
       "    }\n",
       "\n",
       "    .dataframe thead th {\n",
       "        text-align: right;\n",
       "    }\n",
       "</style>\n",
       "<table border=\"1\" class=\"dataframe\">\n",
       "  <thead>\n",
       "    <tr style=\"text-align: right;\">\n",
       "      <th></th>\n",
       "      <th>Mthly_HH_Income</th>\n",
       "      <th>Mthly_HH_Expense</th>\n",
       "      <th>No_of_Fly_Members</th>\n",
       "      <th>Emi_or_Rent_Amt</th>\n",
       "      <th>Annual_HH_Income</th>\n",
       "      <th>No_of_Earning_Members</th>\n",
       "    </tr>\n",
       "  </thead>\n",
       "  <tbody>\n",
       "    <tr>\n",
       "      <th>count</th>\n",
       "      <td>50.000000</td>\n",
       "      <td>50.000000</td>\n",
       "      <td>50.000000</td>\n",
       "      <td>50.000000</td>\n",
       "      <td>5.000000e+01</td>\n",
       "      <td>50.000000</td>\n",
       "    </tr>\n",
       "    <tr>\n",
       "      <th>mean</th>\n",
       "      <td>41558.000000</td>\n",
       "      <td>18818.000000</td>\n",
       "      <td>4.060000</td>\n",
       "      <td>3060.000000</td>\n",
       "      <td>4.900190e+05</td>\n",
       "      <td>1.460000</td>\n",
       "    </tr>\n",
       "    <tr>\n",
       "      <th>std</th>\n",
       "      <td>26097.908979</td>\n",
       "      <td>12090.216824</td>\n",
       "      <td>1.517382</td>\n",
       "      <td>6241.434948</td>\n",
       "      <td>3.201358e+05</td>\n",
       "      <td>0.734291</td>\n",
       "    </tr>\n",
       "    <tr>\n",
       "      <th>min</th>\n",
       "      <td>5000.000000</td>\n",
       "      <td>2000.000000</td>\n",
       "      <td>1.000000</td>\n",
       "      <td>0.000000</td>\n",
       "      <td>6.420000e+04</td>\n",
       "      <td>1.000000</td>\n",
       "    </tr>\n",
       "    <tr>\n",
       "      <th>25%</th>\n",
       "      <td>23550.000000</td>\n",
       "      <td>10000.000000</td>\n",
       "      <td>3.000000</td>\n",
       "      <td>0.000000</td>\n",
       "      <td>2.587500e+05</td>\n",
       "      <td>1.000000</td>\n",
       "    </tr>\n",
       "    <tr>\n",
       "      <th>50%</th>\n",
       "      <td>35000.000000</td>\n",
       "      <td>15500.000000</td>\n",
       "      <td>4.000000</td>\n",
       "      <td>0.000000</td>\n",
       "      <td>4.474200e+05</td>\n",
       "      <td>1.000000</td>\n",
       "    </tr>\n",
       "    <tr>\n",
       "      <th>75%</th>\n",
       "      <td>50375.000000</td>\n",
       "      <td>25000.000000</td>\n",
       "      <td>5.000000</td>\n",
       "      <td>3500.000000</td>\n",
       "      <td>5.947200e+05</td>\n",
       "      <td>2.000000</td>\n",
       "    </tr>\n",
       "    <tr>\n",
       "      <th>max</th>\n",
       "      <td>100000.000000</td>\n",
       "      <td>50000.000000</td>\n",
       "      <td>7.000000</td>\n",
       "      <td>35000.000000</td>\n",
       "      <td>1.404000e+06</td>\n",
       "      <td>4.000000</td>\n",
       "    </tr>\n",
       "  </tbody>\n",
       "</table>\n",
       "</div>"
      ],
      "text/plain": [
       "       Mthly_HH_Income  Mthly_HH_Expense  No_of_Fly_Members  Emi_or_Rent_Amt  \\\n",
       "count        50.000000         50.000000          50.000000        50.000000   \n",
       "mean      41558.000000      18818.000000           4.060000      3060.000000   \n",
       "std       26097.908979      12090.216824           1.517382      6241.434948   \n",
       "min        5000.000000       2000.000000           1.000000         0.000000   \n",
       "25%       23550.000000      10000.000000           3.000000         0.000000   \n",
       "50%       35000.000000      15500.000000           4.000000         0.000000   \n",
       "75%       50375.000000      25000.000000           5.000000      3500.000000   \n",
       "max      100000.000000      50000.000000           7.000000     35000.000000   \n",
       "\n",
       "       Annual_HH_Income  No_of_Earning_Members  \n",
       "count      5.000000e+01              50.000000  \n",
       "mean       4.900190e+05               1.460000  \n",
       "std        3.201358e+05               0.734291  \n",
       "min        6.420000e+04               1.000000  \n",
       "25%        2.587500e+05               1.000000  \n",
       "50%        4.474200e+05               1.000000  \n",
       "75%        5.947200e+05               2.000000  \n",
       "max        1.404000e+06               4.000000  "
      ]
     },
     "execution_count": 23,
     "metadata": {},
     "output_type": "execute_result"
    }
   ],
   "source": [
    "df.describe() # It shows all the statistical decriptive values"
   ]
  },
  {
   "cell_type": "code",
   "execution_count": 24,
   "id": "989096c5",
   "metadata": {},
   "outputs": [
    {
     "data": {
      "text/plain": [
       "Mthly_HH_Income           41558.00\n",
       "Mthly_HH_Expense          18818.00\n",
       "No_of_Fly_Members             4.06\n",
       "Emi_or_Rent_Amt            3060.00\n",
       "Annual_HH_Income         490019.04\n",
       "No_of_Earning_Members         1.46\n",
       "dtype: float64"
      ]
     },
     "execution_count": 24,
     "metadata": {},
     "output_type": "execute_result"
    }
   ],
   "source": [
    "df.mean() # It gives the mean of all the integer columns"
   ]
  },
  {
   "cell_type": "markdown",
   "id": "06de0ad9",
   "metadata": {},
   "source": [
    "<p style =\"font-size:20px; text-decoration: underline;\">Without Library function :</p>"
   ]
  },
  {
   "cell_type": "code",
   "execution_count": 25,
   "id": "5e54546c",
   "metadata": {},
   "outputs": [
    {
     "data": {
      "text/plain": [
       "4.06"
      ]
     },
     "execution_count": 25,
     "metadata": {},
     "output_type": "execute_result"
    }
   ],
   "source": [
    "# Taking one column from data set and finding the mean.\n",
    "no_of_fly_members=list(df[\"No_of_Fly_Members\"])\n",
    "n = len(no_of_fly_members)  \n",
    "get_sum = sum(no_of_fly_members)\n",
    "mean = get_sum / n\n",
    "mean"
   ]
  },
  {
   "cell_type": "code",
   "execution_count": 26,
   "id": "edc273e0",
   "metadata": {},
   "outputs": [
    {
     "data": {
      "text/plain": [
       "<matplotlib.legend.Legend at 0x24ab2824b80>"
      ]
     },
     "execution_count": 26,
     "metadata": {},
     "output_type": "execute_result"
    },
    {
     "data": {
      "image/png": "[encoded data removed]",
      "text/plain": [
       "<Figure size 720x576 with 1 Axes>"
      ]
     },
     "metadata": {},
     "output_type": "display_data"
    }
   ],
   "source": [
    "sn.distplot(df[\"No_of_Fly_Members\"])\n",
    "plt.axvline(df[\"No_of_Fly_Members\"].mean() , color=\"orange\" , label=\"Mean\")\n",
    "plt.legend(shadow=True,fontsize=\"larger\")"
   ]
  },
  {
   "cell_type": "markdown",
   "id": "af3ed3d2",
   "metadata": {},
   "source": [
    "<p style = \"font-size:17px; color:blue\">The Orange line is the mean of the column</p>"
   ]
  },
  {
   "cell_type": "markdown",
   "id": "27d1fb17",
   "metadata": {},
   "source": [
    "<h1 style= \"color:purple; font-size:30px;\">The Median</h1>"
   ]
  },
  {
   "cell_type": "markdown",
   "id": "40bcce8a",
   "metadata": {},
   "source": [
    "<p style = \"font-size:18px;\">The median simply gives us the middle value, as opposed to the average value of the series when ordered.In statistics, it is a measure of <b>central tendency</b> of a probability distribution.</p>"
   ]
  },
  {
   "cell_type": "markdown",
   "id": "c9693999",
   "metadata": {},
   "source": [
    "<p style =\"font-size:22px;\"><b>Example:</b></p><img src=\"images/Finding_the_median.png\" style=\"width:400px;height:250px\">"
   ]
  },
  {
   "cell_type": "markdown",
   "id": "c65c40e7",
   "metadata": {},
   "source": [
    "<p style =\"font-size:22px;\"><b>Formulas:</b></p>"
   ]
  },
  {
   "cell_type": "markdown",
   "id": "32042152",
   "metadata": {},
   "source": [
    "<p style =\"font-size:18px;\">Median(if n is odd) : $$\\Large Med= x_\\frac{(n+1)}{2} $$"
   ]
  },
  {
   "cell_type": "markdown",
   "id": "0befc5a2",
   "metadata": {},
   "source": [
    "<p style =\"font-size:18px;\">Median(if n is even) : $$\\large Med= \\frac{x_\\frac{n}{2}+x_\\frac{n}{(2+1)}}{2} $$"
   ]
  },
  {
   "cell_type": "markdown",
   "id": "065a589b",
   "metadata": {},
   "source": [
    "<p style =\"font-size:22px;\"><b>Code Examples:</b></p>"
   ]
  },
  {
   "cell_type": "markdown",
   "id": "b397526a",
   "metadata": {},
   "source": [
    "<p style =\"font-size:20px; text-decoration: underline;\">With Library function :</p>"
   ]
  },
  {
   "cell_type": "code",
   "execution_count": 27,
   "id": "ad72d617",
   "metadata": {},
   "outputs": [
    {
     "data": {
      "text/plain": [
       "Mthly_HH_Income           35000.0\n",
       "Mthly_HH_Expense          15500.0\n",
       "No_of_Fly_Members             4.0\n",
       "Emi_or_Rent_Amt               0.0\n",
       "Annual_HH_Income         447420.0\n",
       "No_of_Earning_Members         1.0\n",
       "dtype: float64"
      ]
     },
     "execution_count": 27,
     "metadata": {},
     "output_type": "execute_result"
    }
   ],
   "source": [
    "df.median()"
   ]
  },
  {
   "cell_type": "markdown",
   "id": "f23e2eea",
   "metadata": {},
   "source": [
    "<p style =\"font-size:20px; text-decoration: underline;\">Without Library function :</p>"
   ]
  },
  {
   "cell_type": "code",
   "execution_count": 28,
   "id": "f0339321",
   "metadata": {},
   "outputs": [
    {
     "data": {
      "text/plain": [
       "50"
      ]
     },
     "execution_count": 28,
     "metadata": {},
     "output_type": "execute_result"
    }
   ],
   "source": [
    "# Taking One Column's data to calculate the Median\n",
    "Mthly_HH_Expense_lis = list(df['Mthly_HH_Expense'])\n",
    "n = len(Mthly_HH_Expense_lis)\n",
    "n"
   ]
  },
  {
   "cell_type": "code",
   "execution_count": 29,
   "id": "22381785",
   "metadata": {},
   "outputs": [
    {
     "name": "stdout",
     "output_type": "stream",
     "text": [
      "Median is: 15500.0\n"
     ]
    }
   ],
   "source": [
    "Mthly_HH_Expense_lis.sort()\n",
    "  \n",
    "if n % 2 == 0:\n",
    "    median1 = Mthly_HH_Expense_lis[n//2]\n",
    "    median2 = Mthly_HH_Expense_lis[n//2 - 1]\n",
    "    median = (median1 + median2)/2\n",
    "else:\n",
    "    median = Mthly_HH_Expense_lis[n//2]\n",
    "print(\"Median is: \" + str(median))\n"
   ]
  },
  {
   "cell_type": "code",
   "execution_count": 30,
   "id": "c8852795",
   "metadata": {},
   "outputs": [
    {
     "data": {
      "text/plain": [
       "<matplotlib.legend.Legend at 0x24ab2873cd0>"
      ]
     },
     "execution_count": 30,
     "metadata": {},
     "output_type": "execute_result"
    },
    {
     "data": {
      "image/png": "[encoded data removed]",
      "text/plain": [
       "<Figure size 720x576 with 1 Axes>"
      ]
     },
     "metadata": {},
     "output_type": "display_data"
    }
   ],
   "source": [
    "sn.distplot(df['Mthly_HH_Expense'])\n",
    "plt.axvline(df['Mthly_HH_Expense'].median() , color=\"brown\" , label=\"Median\")\n",
    "plt.legend(shadow=True,fontsize=\"larger\")"
   ]
  },
  {
   "cell_type": "markdown",
   "id": "3e0d46be",
   "metadata": {},
   "source": [
    "<p style = \"font-size:17px; color:blue\">Note: Mean and Meadian is used for Descriptive Analysis and Data Cleaning(Filling Na Values) or Handling missing values</p>"
   ]
  },
  {
   "cell_type": "markdown",
   "id": "be5ec570",
   "metadata": {},
   "source": [
    "<h1 style= \"color:purple; font-size:30px;\">The Mode</h1>"
   ]
  },
  {
   "cell_type": "markdown",
   "id": "ee576b54",
   "metadata": {},
   "source": [
    "<p style = \"font-size:18px;\">Mode means most frequently occuring value in a dataset or The Observation with the highest frequency.</p>"
   ]
  },
  {
   "cell_type": "markdown",
   "id": "853505c4",
   "metadata": {},
   "source": [
    "<img src=\"images/Mode-1.png\" style=\"width:500px;height:200px\">"
   ]
  },
  {
   "cell_type": "markdown",
   "id": "94a23462",
   "metadata": {},
   "source": [
    "<p style =\"font-size:22px;\"><b>Formula:</b></p>"
   ]
  },
  {
   "cell_type": "markdown",
   "id": "42e24c45",
   "metadata": {},
   "source": [
    "<p style =\"font-size:18px;\">Mode : $$L+H\\frac{f_m-f_1}{(f_m-f_1)+(f_m-f_2)} $$"
   ]
  },
  {
   "cell_type": "markdown",
   "id": "acd247f1",
   "metadata": {},
   "source": [
    "<p style =\"font-size:22px;\"><b>Code Examples:</b></p>"
   ]
  },
  {
   "cell_type": "code",
   "execution_count": 31,
   "id": "c7f526e0",
   "metadata": {},
   "outputs": [
    {
     "data": {
      "text/plain": [
       "Index(['Mthly_HH_Income', 'Mthly_HH_Expense', 'No_of_Fly_Members',\n",
       "       'Emi_or_Rent_Amt', 'Annual_HH_Income', 'Highest_Qualified_Member',\n",
       "       'No_of_Earning_Members'],\n",
       "      dtype='object')"
      ]
     },
     "execution_count": 31,
     "metadata": {},
     "output_type": "execute_result"
    }
   ],
   "source": [
    "df.columns"
   ]
  },
  {
   "cell_type": "code",
   "execution_count": 32,
   "id": "a3e86743",
   "metadata": {},
   "outputs": [],
   "source": [
    "# Taking a column to calculate the mode\n",
    "Highest_Q = list(df['Highest_Qualified_Member'])"
   ]
  },
  {
   "cell_type": "code",
   "execution_count": 33,
   "id": "8986c25d",
   "metadata": {},
   "outputs": [
    {
     "data": {
      "text/plain": [
       "Counter({'Under-Graduate': 10,\n",
       "         'Illiterate': 5,\n",
       "         'Graduate': 19,\n",
       "         'Post-Graduate': 6,\n",
       "         'Professional': 10})"
      ]
     },
     "execution_count": 33,
     "metadata": {},
     "output_type": "execute_result"
    }
   ],
   "source": [
    "#Using our familiar counter\n",
    "from collections import Counter\n",
    "Q_count = Counter(Highest_Q)\n",
    "Q_count"
   ]
  },
  {
   "cell_type": "markdown",
   "id": "8e8469c4",
   "metadata": {},
   "source": [
    "#### ***As we can see from above result that 'Graduate' is 19 so 'Graduate' is the mode here"
   ]
  },
  {
   "cell_type": "code",
   "execution_count": 34,
   "id": "b59d2ac2",
   "metadata": {},
   "outputs": [
    {
     "data": {
      "text/plain": [
       "[('Graduate', 19)]"
      ]
     },
     "execution_count": 34,
     "metadata": {},
     "output_type": "execute_result"
    }
   ],
   "source": [
    "# Let's Verify\n",
    "def mode(counter):\n",
    "    # store a list of name:count tuples in case multiple modes\n",
    "    modes = [('',0)]\n",
    "    for k,v in counter.items():\n",
    "        highest_count = modes[0][1]\n",
    "        if v > highest_count:\n",
    "            modes = [(k,v)]\n",
    "        elif v == highest_count:\n",
    "            modes.append((k,v))\n",
    "        \n",
    "    return modes\n",
    "mode(Q_count)"
   ]
  },
  {
   "cell_type": "markdown",
   "id": "15a7a524",
   "metadata": {},
   "source": [
    "#### Note: Mode is not that much usefull."
   ]
  },
  {
   "cell_type": "markdown",
   "id": "3760635c",
   "metadata": {},
   "source": [
    "<h1 style= \"color:purple; font-size:30px;\">The Variance</h1>"
   ]
  },
  {
   "cell_type": "markdown",
   "id": "bd119d6b",
   "metadata": {},
   "source": [
    "<p style = \"font-size:18px;\">The term variance refers to a statistical measurement of the spread between numbers in a data set. More specifically, variance measures how far each number in the set is from the mean and thus from every other number in the set. Variance is often depicted by this symbol: σ2</p>"
   ]
  },
  {
   "cell_type": "markdown",
   "id": "37a89644",
   "metadata": {},
   "source": [
    "<img src=\"images/Variance.png\" style=\"width:550px;height:300px\">"
   ]
  },
  {
   "cell_type": "markdown",
   "id": "10ea884b",
   "metadata": {},
   "source": [
    "<p style =\"font-size:22px;\"><b>Formulas:</b></p>"
   ]
  },
  {
   "cell_type": "markdown",
   "id": "f4c91a7b",
   "metadata": {},
   "source": [
    "<p style =\"font-size:18px;\">Population Variation : $$ \\large \\sigma^2 = \\frac{\\sum\\,(x_i - \\mu)^2}{N} $$"
   ]
  },
  {
   "cell_type": "markdown",
   "id": "6308aa81",
   "metadata": {},
   "source": [
    "<p style =\"font-size:18px;\">Sample Variation : $$ \\large \\sigma^2 = \\frac{\\sum\\,(x_i - \\bar{x})^2}{n-1} $$"
   ]
  },
  {
   "cell_type": "markdown",
   "id": "8232dee4",
   "metadata": {},
   "source": [
    "$\\large \n",
    "x_i = each\\, value\\, from\\, the\\, population\\, or\\, sample\\\\\n",
    "\\large\n",
    "\\mu = the\\, population\\, mean\\\\\n",
    "\\large\n",
    "N = the\\, size\\, of\\, the\\, population\\\\\n",
    "\\large\n",
    "\\bar{x} = the\\, sample\\, mean\\\\\n",
    "\\large\n",
    "n = the\\, size\\, of\\, the\\, sample\\\\ \n",
    "$"
   ]
  },
  {
   "cell_type": "markdown",
   "id": "0ecb2214",
   "metadata": {},
   "source": [
    "<p style = \"font-size:17px; color:blue\">Note: The Sample mean is one possible position for the true population mean.</p>"
   ]
  },
  {
   "cell_type": "markdown",
   "id": "dfe9d43d",
   "metadata": {},
   "source": [
    "<p style =\"font-size:22px;\"><b>Code Examples:</b></p>"
   ]
  },
  {
   "cell_type": "markdown",
   "id": "29e1cdd9",
   "metadata": {},
   "source": [
    "<p style =\"font-size:20px; text-decoration: underline;\">With Library function :</p"
   ]
  },
  {
   "cell_type": "code",
   "execution_count": 35,
   "id": "af156650",
   "metadata": {},
   "outputs": [
    {
     "data": {
      "text/plain": [
       "Mthly_HH_Income           26097.908979\n",
       "Mthly_HH_Expense          12090.216824\n",
       "No_of_Fly_Members             1.517382\n",
       "Emi_or_Rent_Amt            6241.434948\n",
       "Annual_HH_Income         320135.792123\n",
       "No_of_Earning_Members         0.734291\n",
       "dtype: float64"
      ]
     },
     "execution_count": 35,
     "metadata": {},
     "output_type": "execute_result"
    }
   ],
   "source": [
    "df.std()"
   ]
  },
  {
   "cell_type": "code",
   "execution_count": 36,
   "id": "42434a74",
   "metadata": {},
   "outputs": [
    {
     "data": {
      "text/plain": [
       "681100853.0612245"
      ]
     },
     "execution_count": 36,
     "metadata": {},
     "output_type": "execute_result"
    }
   ],
   "source": [
    "variance_of_Mthly_HH_Income = df['Mthly_HH_Income'].std()**2\n",
    "variance_of_Mthly_HH_Income"
   ]
  },
  {
   "cell_type": "markdown",
   "id": "5f2115d9",
   "metadata": {},
   "source": [
    "<p style = \"font-size:17px; color:blue\">Note: Square root of variance is standard deviation. So The Variance is the square of standard deviation.</p>"
   ]
  },
  {
   "cell_type": "code",
   "execution_count": 37,
   "id": "9538569d",
   "metadata": {},
   "outputs": [
    {
     "data": {
      "text/plain": [
       "667478836.0"
      ]
     },
     "execution_count": 37,
     "metadata": {},
     "output_type": "execute_result"
    }
   ],
   "source": [
    "# using numpy library\n",
    "import numpy as np\n",
    "np.var(list(df['Mthly_HH_Income']))"
   ]
  },
  {
   "cell_type": "markdown",
   "id": "093a7ed6",
   "metadata": {},
   "source": [
    "<p style =\"font-size:20px; text-decoration: underline;\">Without Library function :</p>"
   ]
  },
  {
   "cell_type": "code",
   "execution_count": 38,
   "id": "0dd6b398",
   "metadata": {},
   "outputs": [
    {
     "name": "stdout",
     "output_type": "stream",
     "text": [
      "667478836.0\n"
     ]
    }
   ],
   "source": [
    "lst = list(df['Mthly_HH_Income'])\n",
    "avg = sum(lst) / len(lst)\n",
    "var = sum((x-avg)**2 for x in lst) / len(lst)\n",
    "print(var)"
   ]
  },
  {
   "cell_type": "markdown",
   "id": "9e19e250",
   "metadata": {},
   "source": [
    "<h1 style= \"color:purple; font-size:30px;\">The Standard Deviation</h1>"
   ]
  },
  {
   "cell_type": "markdown",
   "id": "3979e470",
   "metadata": {},
   "source": [
    "<p style = \"font-size:18px;\">Standard deviation is defined as the deviation of the data values from the average. It’s used to measure the dispersion of a data set or we can say that it is used to find how far apart our individual data points are with respect to average or how spread out data pints are.</p>"
   ]
  },
  {
   "cell_type": "markdown",
   "id": "d164ed3f",
   "metadata": {},
   "source": [
    "<img src=\"images/standard-deviation.png\" style=\"width:600px;height:350px\">"
   ]
  },
  {
   "cell_type": "markdown",
   "id": "0ffa7821",
   "metadata": {},
   "source": [
    "<p style = \"font-size:17px; color:blue\">Note: Standard Deviation is used to detect the outliers from the data set and removal of outliers using 1, 2, 3 or 4 standard deviation.Mainly we use 3 std in maximum time.</p>"
   ]
  },
  {
   "cell_type": "markdown",
   "id": "034aba1b",
   "metadata": {},
   "source": [
    "<p style =\"font-size:22px;\"><b>Formulas:</b></p>"
   ]
  },
  {
   "cell_type": "markdown",
   "id": "a020dbcf",
   "metadata": {},
   "source": [
    "<p style =\"font-size:18px;\">Population Standard Deviation : $$ \\large \\sigma = \\sqrt{\\frac{\\sum\\,(x_i - \\mu)^2}{N}} $$"
   ]
  },
  {
   "cell_type": "markdown",
   "id": "f84c674b",
   "metadata": {},
   "source": [
    "<p style =\"font-size:18px;\">Sample Standard Deviation : $$ \\large \\sigma = \\sqrt{\\frac{\\sum\\,(x_i - \\bar{x})^2}{n-1}} $$"
   ]
  },
  {
   "cell_type": "markdown",
   "id": "ba1ed350",
   "metadata": {},
   "source": [
    "<p style =\"font-size:22px;\"><b>Code Examples:</b></p>"
   ]
  },
  {
   "cell_type": "markdown",
   "id": "40cbea12",
   "metadata": {},
   "source": [
    "<p style =\"font-size:20px; text-decoration: underline;\">With Library function :</p"
   ]
  },
  {
   "cell_type": "code",
   "execution_count": 39,
   "id": "c3165a61",
   "metadata": {},
   "outputs": [
    {
     "data": {
      "text/plain": [
       "Mthly_HH_Income           26097.908979\n",
       "Mthly_HH_Expense          12090.216824\n",
       "No_of_Fly_Members             1.517382\n",
       "Emi_or_Rent_Amt            6241.434948\n",
       "Annual_HH_Income         320135.792123\n",
       "No_of_Earning_Members         0.734291\n",
       "dtype: float64"
      ]
     },
     "execution_count": 39,
     "metadata": {},
     "output_type": "execute_result"
    }
   ],
   "source": [
    "df.std()"
   ]
  },
  {
   "cell_type": "markdown",
   "id": "193f8a5f",
   "metadata": {},
   "source": [
    "<p style =\"font-size:20px; text-decoration: underline;\">Without Library function :</p>"
   ]
  },
  {
   "cell_type": "code",
   "execution_count": 40,
   "id": "14a7161c",
   "metadata": {},
   "outputs": [
    {
     "name": "stdout",
     "output_type": "stream",
     "text": [
      "26097.908978713687\n"
     ]
    }
   ],
   "source": [
    "# Using one column from the data set. \n",
    "from math import sqrt\n",
    "n= list(df['Mthly_HH_Income'])\n",
    "\n",
    "mean =sum(n)/len(n)\n",
    "SUM= 0\n",
    "for i in n :\n",
    "    SUM +=(i-mean)**2\n",
    "stdeV = sqrt(SUM/(len(n)-1)) \n",
    "print(stdeV)"
   ]
  },
  {
   "cell_type": "markdown",
   "id": "23146e47",
   "metadata": {},
   "source": [
    "<h1 style= \"color:purple; font-size:30px;\">The Correlation</h1>"
   ]
  },
  {
   "cell_type": "markdown",
   "id": "92a7fbb2",
   "metadata": {},
   "source": [
    "<p style = \"font-size:18px;\">In statistics, correlation or dependence is any statistical relationship, whether causal or not, between two random variables or bivariate data. In the broadest sense correlation is any statistical association, though it commonly refers to the degree to which a pair of variables are linearly related. Familiar examples of dependent phenomena include the correlation between the height of parents and their offspring, and the correlation between the price of a good and the quantity the consumers are willing to purchase, as it is depicted in the so-called demand curve.</p>"
   ]
  },
  {
   "cell_type": "markdown",
   "id": "44950815",
   "metadata": {},
   "source": [
    "<img src=\"images/Correlation.png\" style=\"width:600px;height:250px\">"
   ]
  },
  {
   "cell_type": "markdown",
   "id": "79821f63",
   "metadata": {},
   "source": [
    "<p style =\"font-size:23px;\"><b>What is Pearson Correlation?</b></p>\n",
    "<p style = \"font-size:18px;\">Correlation between sets of data is a measure of how well they are related. The most common measure of correlation in stats is the Pearson Correlation. The full name is the Pearson Product Moment Correlation (PPMC). It shows the linear relationship between two sets of data. In simple terms, it answers the question, Can I draw a line graph to represent the data? Two letters are used to represent the Pearson correlation: Greek letter rho (ρ) for a population and the letter “r” for a sample.</p>"
   ]
  },
  {
   "cell_type": "markdown",
   "id": "f8cc4816",
   "metadata": {},
   "source": [
    "<p style =\"font-size:22px;\"><b>Formulas:</b></p>"
   ]
  },
  {
   "cell_type": "markdown",
   "id": "034be5df",
   "metadata": {},
   "source": [
    "<p style=\"font-size:18px\">Pearson correlation coefficient: $$ \\large r = \\frac{\\sum{XY}-(\\sum{X} \\sum{Y})}{\\sqrt{ [\\sum{x^2}-(\\sum{x})^2 ][\\sum{y^2}-(\\sum{y})^2 }]} $$"
   ]
  },
  {
   "cell_type": "markdown",
   "id": "8ff4c2e5",
   "metadata": {},
   "source": [
    "<p style='font-size:18px'>Two other formulas are commonly used: the sample correlation coefficient and the population correlation coefficient.</p>"
   ]
  },
  {
   "cell_type": "markdown",
   "id": "f41f7b07",
   "metadata": {},
   "source": [
    "<p style='font-size:18px'><br>Sample correlation coefficient: $$ \\large r_{xy} = \\frac{s_{xy}}{s_x s_y} $$"
   ]
  },
  {
   "cell_type": "markdown",
   "id": "e0b84075",
   "metadata": {},
   "source": [
    "$ s_{xy}\\, and\\, s_y\\, are\\, the\\, sample\\, standard\\, deviations,\\, and\\, s_{xy}\\, is\\, the\\, sample\\, covariance. $"
   ]
  },
  {
   "cell_type": "markdown",
   "id": "f662cb59",
   "metadata": {},
   "source": [
    "<p style='font-size:18px'><br>Population correlation coefficient: $$ \\large \\rho_{xy} = \\frac{\\sigma_{xy}}{\\sigma_x \\sigma_y} $$"
   ]
  },
  {
   "cell_type": "markdown",
   "id": "f6930079",
   "metadata": {},
   "source": [
    "$The\\, population\\, correlation\\, coefficient \\, uses\\, \\sigma_x \\, and\\, \\sigma_y \\, as\\, the\\, population\\, standard\\, deviations,\\, and\\, \\sigma_{xy} as\\, the\\, population\\, covariance $"
   ]
  },
  {
   "cell_type": "markdown",
   "id": "dbb968b4",
   "metadata": {},
   "source": [
    "<p style =\"font-size:22px;\"><b>Code Examples:</b></p>"
   ]
  },
  {
   "cell_type": "code",
   "execution_count": 41,
   "id": "65e5daa1",
   "metadata": {},
   "outputs": [
    {
     "data": {
      "text/html": [
       "<div>\n",
       "<style scoped>\n",
       "    .dataframe tbody tr th:only-of-type {\n",
       "        vertical-align: middle;\n",
       "    }\n",
       "\n",
       "    .dataframe tbody tr th {\n",
       "        vertical-align: top;\n",
       "    }\n",
       "\n",
       "    .dataframe thead th {\n",
       "        text-align: right;\n",
       "    }\n",
       "</style>\n",
       "<table border=\"1\" class=\"dataframe\">\n",
       "  <thead>\n",
       "    <tr style=\"text-align: right;\">\n",
       "      <th></th>\n",
       "      <th>Mthly_HH_Income</th>\n",
       "      <th>Mthly_HH_Expense</th>\n",
       "      <th>No_of_Fly_Members</th>\n",
       "      <th>Emi_or_Rent_Amt</th>\n",
       "      <th>Annual_HH_Income</th>\n",
       "      <th>No_of_Earning_Members</th>\n",
       "    </tr>\n",
       "  </thead>\n",
       "  <tbody>\n",
       "    <tr>\n",
       "      <th>Mthly_HH_Income</th>\n",
       "      <td>1.000000</td>\n",
       "      <td>0.649215</td>\n",
       "      <td>0.448317</td>\n",
       "      <td>0.036976</td>\n",
       "      <td>0.970315</td>\n",
       "      <td>0.347883</td>\n",
       "    </tr>\n",
       "    <tr>\n",
       "      <th>Mthly_HH_Expense</th>\n",
       "      <td>0.649215</td>\n",
       "      <td>1.000000</td>\n",
       "      <td>0.639702</td>\n",
       "      <td>0.405280</td>\n",
       "      <td>0.591222</td>\n",
       "      <td>0.311915</td>\n",
       "    </tr>\n",
       "    <tr>\n",
       "      <th>No_of_Fly_Members</th>\n",
       "      <td>0.448317</td>\n",
       "      <td>0.639702</td>\n",
       "      <td>1.000000</td>\n",
       "      <td>0.085808</td>\n",
       "      <td>0.430868</td>\n",
       "      <td>0.597482</td>\n",
       "    </tr>\n",
       "    <tr>\n",
       "      <th>Emi_or_Rent_Amt</th>\n",
       "      <td>0.036976</td>\n",
       "      <td>0.405280</td>\n",
       "      <td>0.085808</td>\n",
       "      <td>1.000000</td>\n",
       "      <td>0.002716</td>\n",
       "      <td>-0.097431</td>\n",
       "    </tr>\n",
       "    <tr>\n",
       "      <th>Annual_HH_Income</th>\n",
       "      <td>0.970315</td>\n",
       "      <td>0.591222</td>\n",
       "      <td>0.430868</td>\n",
       "      <td>0.002716</td>\n",
       "      <td>1.000000</td>\n",
       "      <td>0.296679</td>\n",
       "    </tr>\n",
       "    <tr>\n",
       "      <th>No_of_Earning_Members</th>\n",
       "      <td>0.347883</td>\n",
       "      <td>0.311915</td>\n",
       "      <td>0.597482</td>\n",
       "      <td>-0.097431</td>\n",
       "      <td>0.296679</td>\n",
       "      <td>1.000000</td>\n",
       "    </tr>\n",
       "  </tbody>\n",
       "</table>\n",
       "</div>"
      ],
      "text/plain": [
       "                       Mthly_HH_Income  Mthly_HH_Expense  No_of_Fly_Members  \\\n",
       "Mthly_HH_Income               1.000000          0.649215           0.448317   \n",
       "Mthly_HH_Expense              0.649215          1.000000           0.639702   \n",
       "No_of_Fly_Members             0.448317          0.639702           1.000000   \n",
       "Emi_or_Rent_Amt               0.036976          0.405280           0.085808   \n",
       "Annual_HH_Income              0.970315          0.591222           0.430868   \n",
       "No_of_Earning_Members         0.347883          0.311915           0.597482   \n",
       "\n",
       "                       Emi_or_Rent_Amt  Annual_HH_Income  \\\n",
       "Mthly_HH_Income               0.036976          0.970315   \n",
       "Mthly_HH_Expense              0.405280          0.591222   \n",
       "No_of_Fly_Members             0.085808          0.430868   \n",
       "Emi_or_Rent_Amt               1.000000          0.002716   \n",
       "Annual_HH_Income              0.002716          1.000000   \n",
       "No_of_Earning_Members        -0.097431          0.296679   \n",
       "\n",
       "                       No_of_Earning_Members  \n",
       "Mthly_HH_Income                     0.347883  \n",
       "Mthly_HH_Expense                    0.311915  \n",
       "No_of_Fly_Members                   0.597482  \n",
       "Emi_or_Rent_Amt                    -0.097431  \n",
       "Annual_HH_Income                    0.296679  \n",
       "No_of_Earning_Members               1.000000  "
      ]
     },
     "execution_count": 41,
     "metadata": {},
     "output_type": "execute_result"
    }
   ],
   "source": [
    "df.corr() "
   ]
  },
  {
   "cell_type": "markdown",
   "id": "ee0d9226",
   "metadata": {},
   "source": [
    "<p style = \"font-size:17px; color:blue\">Note: The Correlation between different columns of the data set is lie between -1 to 1 only. Negative numbers means the columns are negatively correlated and the positive numbers means the columns are positively correlated with each other.</p>"
   ]
  },
  {
   "cell_type": "markdown",
   "id": "396af7eb",
   "metadata": {},
   "source": [
    "####  \"\"\"By just seeing the numbers it is hard to do feature selection\"\"\"\n",
    "####  \"\"\"Let's use Heatmap\"\"\""
   ]
  },
  {
   "cell_type": "code",
   "execution_count": 42,
   "id": "bc370f30",
   "metadata": {},
   "outputs": [
    {
     "data": {
      "image/png": "[encoded data removed]",
      "text/plain": [
       "<Figure size 720x576 with 2 Axes>"
      ]
     },
     "metadata": {},
     "output_type": "display_data"
    }
   ],
   "source": [
    "# Importing some important libraries\n",
    "import matplotlib.pyplot as plt\n",
    "import seaborn as sn\n",
    "# Using Pearson correlation\n",
    "plt.figure(figsize=(10,8))\n",
    "sn.heatmap(df.corr(), annot=True, cmap=plt.cm.CMRmap_r)\n",
    "plt.show()"
   ]
  },
  {
   "cell_type": "markdown",
   "id": "1a85e997",
   "metadata": {},
   "source": [
    "<h1 style= \"color:purple; font-size:30px;\">The Normal Distribution</h1>"
   ]
  },
  {
   "cell_type": "markdown",
   "id": "f108cd7f",
   "metadata": {},
   "source": [
    "<p style = \"font-size:18px;\">Normal distribution, also known as<b> the Gaussian distribution</b>, is a probability distribution that is symmetric about the mean, showing that data near the mean are more frequent in occurrence than data far from the mean. In graph form, normal distribution will appear as a <b>bell curve.</b>The graph of the normal distribution is characterized by two parameters: the mean, or average, which is the maximum of the graph and about which the graph is always symmetric; and the standard deviation, which determines the amount of dispersion away from the mean. A small standard deviation (compared with the mean) produces a steep graph, whereas a large standard deviation (again compared with the mean) produces a flat graph.</p>"
   ]
  },
  {
   "cell_type": "markdown",
   "id": "836d9f8c",
   "metadata": {},
   "source": [
    "<img src=\"images/normal_distribution.png\" style=\"width:750px;height:400px\">"
   ]
  },
  {
   "cell_type": "markdown",
   "id": "4ce9dddb",
   "metadata": {},
   "source": [
    "#### For a normal distribution, 68% of the observations are within +/- one standard deviation of the mean, 95% are within +/- two standard deviations, and 99.7% are within +- three standard deviations."
   ]
  },
  {
   "cell_type": "markdown",
   "id": "1d4b41ca",
   "metadata": {},
   "source": [
    "<p style =\"font-size:22px;\"><b>Formula:</b></p>\n",
    "<p style = \"font-size:18px\">The normal distribution is produced by the normal density function,<p>"
   ]
  },
  {
   "cell_type": "markdown",
   "id": "31162592",
   "metadata": {},
   "source": [
    "$$ \\Large p(x) = \\frac{e^\\frac{-(x-\\mu)^2}{2\\sigma^2}}{\\sigma\\sqrt{2\\pi}} $$"
   ]
  },
  {
   "cell_type": "markdown",
   "id": "b0d24a0a",
   "metadata": {},
   "source": [
    "$ \\large In\\, this\\, exponential\\, function\\, e\\, is\\, the\\, constant\\, 2.71828…,\\, \\mu \\, is\\, the\\, mean,\\, and\\, \\sigma \\, is\\, the\\, standard deviation. $"
   ]
  },
  {
   "cell_type": "markdown",
   "id": "134c687d",
   "metadata": {},
   "source": [
    "<p style =\"font-size:25px; color:purple\"><b> Some Features of A Normal Distribution:</b></p>\n",
    "<p style = 'font-size:18px'>1.The <b>mean, median and mode</b> are exactly the same means that \n",
    "    The Data Is Centered About the Mean-Mode-Median<br>2.The distribution is <b>symmetric</b> about the mean—half the values fall below the mean and half above the mean.<br>3.The distribution can be described by two values:<b> the mean and the standard deviation.</b></p>"
   ]
  },
  {
   "cell_type": "markdown",
   "id": "ce761934",
   "metadata": {},
   "source": [
    "<br><p style =\"font-size:25px; color:purple\"><b>Positively Skewed Normal Distribution:</b></p>"
   ]
  },
  {
   "cell_type": "markdown",
   "id": "1e73e4e8",
   "metadata": {},
   "source": [
    "<p style= \"font-size:18px\">In statistics, <b>a positively skewed (or right-skewed) distribution</b> is a type of distribution in which most values are clustered around the left tail of the distribution while the right tail of the distribution is longer. The positively skewed distribution is a direct opposite of the negatively skewed distribution.</p>"
   ]
  },
  {
   "cell_type": "markdown",
   "id": "d007c18e",
   "metadata": {},
   "source": [
    "<img src=\"Positively-Skewed-Distribution.webp\" style=\"width:650px;height:350px\">"
   ]
  },
  {
   "cell_type": "markdown",
   "id": "d8e609f3",
   "metadata": {},
   "source": [
    "<p style =\"font-size:20px\">Effect on Mean, Median and Mode due to Positive Skewness: <b>Mean> Median> Mode</b> </p>"
   ]
  },
  {
   "cell_type": "markdown",
   "id": "58c2ae79",
   "metadata": {},
   "source": [
    "<br>\n",
    "<p style =\"font-size:25px; color:purple\"><b>Negatively Skewed Normal Distribution:</b></p>"
   ]
  },
  {
   "cell_type": "markdown",
   "id": "4d137ff4",
   "metadata": {},
   "source": [
    "<p style= \"font-size:18px\">In statistics,<b> a negatively skewed (also known as left-skewed) distribution</b> is a type of distribution in which more values are concentrated on the right side (tail) of the distribution graph while the left tail of the distribution graph is longer.</p>"
   ]
  },
  {
   "cell_type": "markdown",
   "id": "253da7f0",
   "metadata": {},
   "source": [
    "<img src=\"images/negatively-skewed-distribution.webp\" style=\"width:650px;height:350px\">"
   ]
  },
  {
   "cell_type": "markdown",
   "id": "99b0c11b",
   "metadata": {},
   "source": [
    " <p style =\"font-size:20px\">Effect on Mean, Median and Mode due to Positive Skewness:<b>Mean &lt;Median &lt;Mode</b></p>"
   ]
  },
  {
   "cell_type": "markdown",
   "id": "ef4146e7",
   "metadata": {},
   "source": [
    "<br><p style =\"font-size:22px;\"><b>Formula:</b></p>"
   ]
  },
  {
   "cell_type": "markdown",
   "id": "d739957c",
   "metadata": {},
   "source": [
    "<p style=\"font-size:18px\">1.Mode Skewness: $$ \\large skew=\\frac{mean-mode}{std\\,dev.}$$"
   ]
  },
  {
   "cell_type": "markdown",
   "id": "9ff7f407",
   "metadata": {},
   "source": [
    "<p style=\"font-size:18px\">2.Median Skewness: $$ \\large skew=\\frac{3(mean-median)}{std\\,dev.}$$"
   ]
  },
  {
   "cell_type": "markdown",
   "id": "8738755d",
   "metadata": {},
   "source": [
    "<p style = \"font-size:17px; color:blue\">Note:<br> 1. Mode suckes the small data set <br> 2. The greater the skew, the greater the distance between Mode, Median and Mean<br>3. We can use Normal Distribution to detect and remove the outliers.</p>"
   ]
  },
  {
   "cell_type": "markdown",
   "id": "2d64d499",
   "metadata": {},
   "source": [
    "<p style =\"font-size:22px;\"><b>Code Examples:</b></p>"
   ]
  },
  {
   "cell_type": "code",
   "execution_count": 43,
   "id": "96d38820",
   "metadata": {},
   "outputs": [
    {
     "data": {
      "text/html": [
       "<div>\n",
       "<style scoped>\n",
       "    .dataframe tbody tr th:only-of-type {\n",
       "        vertical-align: middle;\n",
       "    }\n",
       "\n",
       "    .dataframe tbody tr th {\n",
       "        vertical-align: top;\n",
       "    }\n",
       "\n",
       "    .dataframe thead th {\n",
       "        text-align: right;\n",
       "    }\n",
       "</style>\n",
       "<table border=\"1\" class=\"dataframe\">\n",
       "  <thead>\n",
       "    <tr style=\"text-align: right;\">\n",
       "      <th></th>\n",
       "      <th>Mthly_HH_Income</th>\n",
       "      <th>Mthly_HH_Expense</th>\n",
       "      <th>No_of_Fly_Members</th>\n",
       "      <th>Emi_or_Rent_Amt</th>\n",
       "      <th>Annual_HH_Income</th>\n",
       "      <th>No_of_Earning_Members</th>\n",
       "    </tr>\n",
       "  </thead>\n",
       "  <tbody>\n",
       "    <tr>\n",
       "      <th>count</th>\n",
       "      <td>50.000000</td>\n",
       "      <td>50.000000</td>\n",
       "      <td>50.000000</td>\n",
       "      <td>50.000000</td>\n",
       "      <td>5.000000e+01</td>\n",
       "      <td>50.000000</td>\n",
       "    </tr>\n",
       "    <tr>\n",
       "      <th>mean</th>\n",
       "      <td>41558.000000</td>\n",
       "      <td>18818.000000</td>\n",
       "      <td>4.060000</td>\n",
       "      <td>3060.000000</td>\n",
       "      <td>4.900190e+05</td>\n",
       "      <td>1.460000</td>\n",
       "    </tr>\n",
       "    <tr>\n",
       "      <th>std</th>\n",
       "      <td>26097.908979</td>\n",
       "      <td>12090.216824</td>\n",
       "      <td>1.517382</td>\n",
       "      <td>6241.434948</td>\n",
       "      <td>3.201358e+05</td>\n",
       "      <td>0.734291</td>\n",
       "    </tr>\n",
       "    <tr>\n",
       "      <th>min</th>\n",
       "      <td>5000.000000</td>\n",
       "      <td>2000.000000</td>\n",
       "      <td>1.000000</td>\n",
       "      <td>0.000000</td>\n",
       "      <td>6.420000e+04</td>\n",
       "      <td>1.000000</td>\n",
       "    </tr>\n",
       "    <tr>\n",
       "      <th>25%</th>\n",
       "      <td>23550.000000</td>\n",
       "      <td>10000.000000</td>\n",
       "      <td>3.000000</td>\n",
       "      <td>0.000000</td>\n",
       "      <td>2.587500e+05</td>\n",
       "      <td>1.000000</td>\n",
       "    </tr>\n",
       "    <tr>\n",
       "      <th>50%</th>\n",
       "      <td>35000.000000</td>\n",
       "      <td>15500.000000</td>\n",
       "      <td>4.000000</td>\n",
       "      <td>0.000000</td>\n",
       "      <td>4.474200e+05</td>\n",
       "      <td>1.000000</td>\n",
       "    </tr>\n",
       "    <tr>\n",
       "      <th>75%</th>\n",
       "      <td>50375.000000</td>\n",
       "      <td>25000.000000</td>\n",
       "      <td>5.000000</td>\n",
       "      <td>3500.000000</td>\n",
       "      <td>5.947200e+05</td>\n",
       "      <td>2.000000</td>\n",
       "    </tr>\n",
       "    <tr>\n",
       "      <th>max</th>\n",
       "      <td>100000.000000</td>\n",
       "      <td>50000.000000</td>\n",
       "      <td>7.000000</td>\n",
       "      <td>35000.000000</td>\n",
       "      <td>1.404000e+06</td>\n",
       "      <td>4.000000</td>\n",
       "    </tr>\n",
       "  </tbody>\n",
       "</table>\n",
       "</div>"
      ],
      "text/plain": [
       "       Mthly_HH_Income  Mthly_HH_Expense  No_of_Fly_Members  Emi_or_Rent_Amt  \\\n",
       "count        50.000000         50.000000          50.000000        50.000000   \n",
       "mean      41558.000000      18818.000000           4.060000      3060.000000   \n",
       "std       26097.908979      12090.216824           1.517382      6241.434948   \n",
       "min        5000.000000       2000.000000           1.000000         0.000000   \n",
       "25%       23550.000000      10000.000000           3.000000         0.000000   \n",
       "50%       35000.000000      15500.000000           4.000000         0.000000   \n",
       "75%       50375.000000      25000.000000           5.000000      3500.000000   \n",
       "max      100000.000000      50000.000000           7.000000     35000.000000   \n",
       "\n",
       "       Annual_HH_Income  No_of_Earning_Members  \n",
       "count      5.000000e+01              50.000000  \n",
       "mean       4.900190e+05               1.460000  \n",
       "std        3.201358e+05               0.734291  \n",
       "min        6.420000e+04               1.000000  \n",
       "25%        2.587500e+05               1.000000  \n",
       "50%        4.474200e+05               1.000000  \n",
       "75%        5.947200e+05               2.000000  \n",
       "max        1.404000e+06               4.000000  "
      ]
     },
     "execution_count": 43,
     "metadata": {},
     "output_type": "execute_result"
    }
   ],
   "source": [
    "df.describe()"
   ]
  },
  {
   "cell_type": "code",
   "execution_count": 44,
   "id": "7935126e",
   "metadata": {
    "scrolled": false
   },
   "outputs": [
    {
     "data": {
      "image/png": "[encoded data removed]",
      "text/plain": [
       "<Figure size 720x576 with 1 Axes>"
      ]
     },
     "metadata": {
      "needs_background": "light"
     },
     "output_type": "display_data"
    }
   ],
   "source": [
    "%matplotlib inline\n",
    "plt.rcParams['figure.figsize'] = (10,8)\n",
    "sn.histplot(df['Mthly_HH_Income'],bins=15,kde=True)\n",
    "plt.show()"
   ]
  },
  {
   "cell_type": "markdown",
   "id": "fda148fc",
   "metadata": {},
   "source": [
    "#### \"\"\"\"In the above histogram as you can see the tail is pointing towards right means it is positively skewed\"\"\"\"."
   ]
  },
  {
   "cell_type": "markdown",
   "id": "3cd0a23c",
   "metadata": {},
   "source": [
    "<h1 style= \"color:purple; font-size:33px;\">Q-Q(quantile-quantile) Plot</h1>"
   ]
  },
  {
   "cell_type": "markdown",
   "id": "c3247a50",
   "metadata": {},
   "source": [
    "<p style= \"font-size:18px\">In Statistics,<b> Q-Q(quantile-quantile) plots</b> play a very vital role to graphically analyze and compare two probability distributions by plotting their quantiles against each other. If the two distributions which we are comparing are exactly equal then the points on the Q-Q plot will perfectly lie on a straight line y = x.Q-Q plots are used to find the type of distribution for a random variable whether it be a Gaussian Distribution, Uniform Distribution, Exponential Distribution or even Pareto Distribution, etc.<b> We can tell the type of distribution using the power of the Q-Q plot just by looking at the plot.</b></p>"
   ]
  },
  {
   "cell_type": "markdown",
   "id": "e278d372",
   "metadata": {},
   "source": [
    "<img src=\"images/QQ.jpeg\" style=\"width:600px;height:350px\">"
   ]
  },
  {
   "cell_type": "markdown",
   "id": "09707003",
   "metadata": {},
   "source": [
    "<br><p style =\"font-size:22px;\"><b>Code Examples:</b></p>"
   ]
  },
  {
   "cell_type": "code",
   "execution_count": 45,
   "id": "5682f98b",
   "metadata": {},
   "outputs": [],
   "source": [
    "from scipy import stats"
   ]
  },
  {
   "cell_type": "code",
   "execution_count": 46,
   "id": "5718eb4e",
   "metadata": {},
   "outputs": [
    {
     "data": {
      "image/png": "[encoded data removed]",
      "text/plain": [
       "<Figure size 864x576 with 6 Axes>"
      ]
     },
     "metadata": {
      "needs_background": "light"
     },
     "output_type": "display_data"
    }
   ],
   "source": [
    "# Initiating a figure\n",
    "plt.figure(figsize=(12, 8))\n",
    "\n",
    "# Creating a plot with 1 row and 2 cols\n",
    "\n",
    "plt.subplot(2, 3, 1)\n",
    "stats.probplot(df['Mthly_HH_Income'], dist=\"norm\", plot=plt)\n",
    "\n",
    "plt.subplot(2, 3, 2)\n",
    "stats.probplot(df['Mthly_HH_Expense'], dist=\"norm\", plot=plt)\n",
    "\n",
    "plt.subplot(2, 3, 3)\n",
    "stats.probplot(df['No_of_Fly_Members'], dist=\"norm\", plot=plt)\n",
    "\n",
    "plt.subplot(2, 3, 4)\n",
    "stats.probplot(df['Emi_or_Rent_Amt'], dist=\"norm\", plot=plt)\n",
    "\n",
    "plt.subplot(2, 3, 5)\n",
    "stats.probplot(df['Annual_HH_Income'], dist=\"norm\", plot=plt)\n",
    "\n",
    "plt.subplot(2, 3, 6)\n",
    "stats.probplot(df['No_of_Earning_Members'], dist=\"norm\", plot=plt)\n",
    "\n",
    "plt.show()"
   ]
  },
  {
   "cell_type": "markdown",
   "id": "4e907fcb",
   "metadata": {},
   "source": [
    "### from the above plots we can get a idea that the columns are not normally distributed"
   ]
  },
  {
   "cell_type": "markdown",
   "id": "3a462a76",
   "metadata": {},
   "source": [
    "<h1 style= \"color:purple; font-size:33px;\">Box-Cox Transformation</h1>"
   ]
  },
  {
   "cell_type": "markdown",
   "id": "a62d61e7",
   "metadata": {},
   "source": [
    "<p style= \"font-size:18px\">The Box-Cox transformation transforms our data so that it closely resembles a normal distribution.In many statistical techniques, we assume that the errors are normally distributed. This assumption allows us to construct confidence intervals and conduct hypothesis tests. By transforming your target variable, we can (hopefully) normalize our errors (if they are not already normal).Additionally, transforming our variables can improve the predictive power of our models because transformations can cut away white noise.</p"
   ]
  },
  {
   "cell_type": "code",
   "execution_count": 47,
   "id": "09db4a48",
   "metadata": {},
   "outputs": [
    {
     "data": {
      "text/plain": [
       "<AxesSubplot:xlabel='Mthly_HH_Income', ylabel='Density'>"
      ]
     },
     "execution_count": 47,
     "metadata": {},
     "output_type": "execute_result"
    },
    {
     "data": {
      "image/png": "[encoded data removed]",
      "text/plain": [
       "<Figure size 720x576 with 1 Axes>"
      ]
     },
     "metadata": {
      "needs_background": "light"
     },
     "output_type": "display_data"
    }
   ],
   "source": [
    "sn.distplot(df['Mthly_HH_Income'])"
   ]
  },
  {
   "cell_type": "markdown",
   "id": "1d8e1b63",
   "metadata": {},
   "source": [
    "<p style=\"font-size: 15px\">As we can see that there are some discrepancies. Let's plot a Q-Q plot to check the normality of the distribution</p>"
   ]
  },
  {
   "cell_type": "code",
   "execution_count": 48,
   "id": "86807afb",
   "metadata": {},
   "outputs": [
    {
     "data": {
      "image/png": "[encoded data removed]",
      "text/plain": [
       "<Figure size 720x576 with 1 Axes>"
      ]
     },
     "metadata": {
      "needs_background": "light"
     },
     "output_type": "display_data"
    }
   ],
   "source": [
    "stats.probplot(df['Mthly_HH_Income'] , dist='norm' , plot=plt)\n",
    "sn.set_style(\"darkgrid\")"
   ]
  },
  {
   "cell_type": "markdown",
   "id": "ae985c1d",
   "metadata": {},
   "source": [
    "### Using box-cox transformation"
   ]
  },
  {
   "cell_type": "code",
   "execution_count": 49,
   "id": "f0c08edc",
   "metadata": {},
   "outputs": [
    {
     "name": "stdout",
     "output_type": "stream",
     "text": [
      "0.3031376789702236\n"
     ]
    }
   ],
   "source": [
    "# pr_1 = transformed by the box-cox l=lamda\n",
    "pr_1 , l = stats.boxcox(df['Mthly_HH_Income'])\n",
    "print(l)"
   ]
  },
  {
   "cell_type": "code",
   "execution_count": 50,
   "id": "83d2121f",
   "metadata": {},
   "outputs": [
    {
     "data": {
      "image/png": "[encoded data removed]",
      "text/plain": [
       "<Figure size 720x576 with 1 Axes>"
      ]
     },
     "metadata": {},
     "output_type": "display_data"
    }
   ],
   "source": [
    "# Ploting the Q-Q plot to see the normality of the transformed column\n",
    "stats.probplot(pr_1 , dist='norm' , plot=plt)\n",
    "sn.set_style(\"darkgrid\")"
   ]
  },
  {
   "cell_type": "code",
   "execution_count": 51,
   "id": "22d6177f",
   "metadata": {},
   "outputs": [
    {
     "data": {
      "text/plain": [
       "<AxesSubplot:ylabel='Density'>"
      ]
     },
     "execution_count": 51,
     "metadata": {},
     "output_type": "execute_result"
    },
    {
     "data": {
      "image/png": "[encoded data removed]",
      "text/plain": [
       "<Figure size 720x576 with 1 Axes>"
      ]
     },
     "metadata": {},
     "output_type": "display_data"
    }
   ],
   "source": [
    "# Ploting the dist plot to see the normality of the transformed column\n",
    "sn.distplot(pr_1)"
   ]
  },
  {
   "cell_type": "code",
   "execution_count": null,
   "id": "85a7828e",
   "metadata": {},
   "outputs": [],
   "source": []
  }
 ],
 "metadata": {
  "kernelspec": {
   "display_name": "Python 3",
   "language": "python",
   "name": "python3"
  },
  "language_info": {
   "codemirror_mode": {
    "name": "ipython",
    "version": 3
   },
   "file_extension": ".py",
   "mimetype": "text/x-python",
   "name": "python",
   "nbconvert_exporter": "python",
   "pygments_lexer": "ipython3",
   "version": "3.8.8"
  }
 },
 "nbformat": 4,
 "nbformat_minor": 5
}
